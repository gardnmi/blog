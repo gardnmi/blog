{
 "cells": [
  {
   "source": [
    "# PGA Driving Distance Over the Years\n",
    "> A look at how PGA driving distance has changed over the Years\n",
    "\n",
    "- toc: true \n",
    "- badges: true\n",
    "- comments: true\n",
    "- categories: [jupyter, pandas, pga]\n",
    "- image: images/pga-driving-distance.png"
   ],
   "cell_type": "markdown",
   "metadata": {}
  },
  {
   "cell_type": "code",
   "execution_count": 1,
   "metadata": {},
   "outputs": [],
   "source": [
    "#collapse-hide\n",
    "\n",
    "import pandas as pd\n",
    "import altair as alt"
   ]
  },
  {
   "cell_type": "code",
   "execution_count": 2,
   "metadata": {},
   "outputs": [
    {
     "output_type": "execute_result",
     "data": {
      "text/plain": [
       "  RANK THIS WEEK RANK LAST WEEK        PLAYER NAME  ROUNDS   AVG.  \\\n",
       "0              1              1  Bryson DeChambeau       8  344.4   \n",
       "1              2              5     Dustin Johnson       4  333.8   \n",
       "2              3             11       Rory McIlroy       8  333.4   \n",
       "3              4              4    Joaquin Niemann      12  333.2   \n",
       "4              5              6    Taylor Pendrith       4  331.9   \n",
       "5              6              2      Cameron Champ       8  331.4   \n",
       "6              7              7           Jon Rahm       8  324.8   \n",
       "7              8             16         Tony Finau       4  324.6   \n",
       "8              9             17      Wyndham Clark      10  324.5   \n",
       "9             10              9        Ryan Palmer      10  321.8   \n",
       "\n",
       "   TOTAL DISTANCE  TOTAL DRIVES  \n",
       "0            5511            16  \n",
       "1            2670             8  \n",
       "2            5334            16  \n",
       "3            7996            24  \n",
       "4            2655             8  \n",
       "5            5302            16  \n",
       "6            5196            16  \n",
       "7            2597             8  \n",
       "8            6489            20  \n",
       "9            6436            20  "
      ],
      "text/html": "<div>\n<style scoped>\n    .dataframe tbody tr th:only-of-type {\n        vertical-align: middle;\n    }\n\n    .dataframe tbody tr th {\n        vertical-align: top;\n    }\n\n    .dataframe thead th {\n        text-align: right;\n    }\n</style>\n<table border=\"1\" class=\"dataframe\">\n  <thead>\n    <tr style=\"text-align: right;\">\n      <th></th>\n      <th>RANK THIS WEEK</th>\n      <th>RANK LAST WEEK</th>\n      <th>PLAYER NAME</th>\n      <th>ROUNDS</th>\n      <th>AVG.</th>\n      <th>TOTAL DISTANCE</th>\n      <th>TOTAL DRIVES</th>\n    </tr>\n  </thead>\n  <tbody>\n    <tr>\n      <th>0</th>\n      <td>1</td>\n      <td>1</td>\n      <td>Bryson DeChambeau</td>\n      <td>8</td>\n      <td>344.4</td>\n      <td>5511</td>\n      <td>16</td>\n    </tr>\n    <tr>\n      <th>1</th>\n      <td>2</td>\n      <td>5</td>\n      <td>Dustin Johnson</td>\n      <td>4</td>\n      <td>333.8</td>\n      <td>2670</td>\n      <td>8</td>\n    </tr>\n    <tr>\n      <th>2</th>\n      <td>3</td>\n      <td>11</td>\n      <td>Rory McIlroy</td>\n      <td>8</td>\n      <td>333.4</td>\n      <td>5334</td>\n      <td>16</td>\n    </tr>\n    <tr>\n      <th>3</th>\n      <td>4</td>\n      <td>4</td>\n      <td>Joaquin Niemann</td>\n      <td>12</td>\n      <td>333.2</td>\n      <td>7996</td>\n      <td>24</td>\n    </tr>\n    <tr>\n      <th>4</th>\n      <td>5</td>\n      <td>6</td>\n      <td>Taylor Pendrith</td>\n      <td>4</td>\n      <td>331.9</td>\n      <td>2655</td>\n      <td>8</td>\n    </tr>\n    <tr>\n      <th>5</th>\n      <td>6</td>\n      <td>2</td>\n      <td>Cameron Champ</td>\n      <td>8</td>\n      <td>331.4</td>\n      <td>5302</td>\n      <td>16</td>\n    </tr>\n    <tr>\n      <th>6</th>\n      <td>7</td>\n      <td>7</td>\n      <td>Jon Rahm</td>\n      <td>8</td>\n      <td>324.8</td>\n      <td>5196</td>\n      <td>16</td>\n    </tr>\n    <tr>\n      <th>7</th>\n      <td>8</td>\n      <td>16</td>\n      <td>Tony Finau</td>\n      <td>4</td>\n      <td>324.6</td>\n      <td>2597</td>\n      <td>8</td>\n    </tr>\n    <tr>\n      <th>8</th>\n      <td>9</td>\n      <td>17</td>\n      <td>Wyndham Clark</td>\n      <td>10</td>\n      <td>324.5</td>\n      <td>6489</td>\n      <td>20</td>\n    </tr>\n    <tr>\n      <th>9</th>\n      <td>10</td>\n      <td>9</td>\n      <td>Ryan Palmer</td>\n      <td>10</td>\n      <td>321.8</td>\n      <td>6436</td>\n      <td>20</td>\n    </tr>\n  </tbody>\n</table>\n</div>"
     },
     "metadata": {},
     "execution_count": 2
    }
   ],
   "source": [
    "# Analyzing 20 Driving Distances\n",
    "\n",
    "tables = pd.read_html('https://www.pgatour.com/stats/stat.101.2020.html')\n",
    "drives = tables[1]\n",
    "drives.head(10)"
   ]
  },
  {
   "cell_type": "code",
   "execution_count": 3,
   "metadata": {},
   "outputs": [
    {
     "output_type": "execute_result",
     "data": {
      "text/plain": [
       "count    264.000000\n",
       "mean     301.050000\n",
       "std       11.742452\n",
       "min      267.400000\n",
       "25%      294.100000\n",
       "50%      301.100000\n",
       "75%      307.900000\n",
       "max      344.400000\n",
       "Name: AVG., dtype: float64"
      ]
     },
     "metadata": {},
     "execution_count": 3
    }
   ],
   "source": [
    "drives.describe()['AVG.']"
   ]
  },
  {
   "cell_type": "code",
   "execution_count": 30,
   "metadata": {},
   "outputs": [],
   "source": [
    "#collapse-hide\n",
    "\n",
    "# Create a List of Years\n",
    "years = pd.date_range(start='1/1/1980', end=pd.to_datetime('today') +\n",
    "                      pd.offsets.DateOffset(month=12, day=31), freq='Y').year\n",
    "\n",
    "# Loop Through URL's and create a Dataframe\n",
    "\n",
    "d = []\n",
    "\n",
    "for year in years:\n",
    "    tables = pd.read_html(f'https://www.pgatour.com/stats/stat.101.y{year}.html')\n",
    "    \n",
    "    try:\n",
    "        drives = tables[1].loc[:100]\n",
    "        \n",
    "        d.append({'Year': year, 'Average Drive': drives['AVG.'].mean()})\n",
    "    except:\n",
    "        pass\n",
    "\n",
    "df = pd.DataFrame(d)\n",
    "df['Average Drive'] = df['Average Drive'].astype(int)"
   ]
  },
  {
   "cell_type": "code",
   "execution_count": 40,
   "metadata": {},
   "outputs": [
    {
     "output_type": "execute_result",
     "data": {
      "text/html": "\n<div id=\"altair-viz-04cc05a3b8d3403d9b06d507273f1425\"></div>\n<script type=\"text/javascript\">\n  (function(spec, embedOpt){\n    let outputDiv = document.currentScript.previousElementSibling;\n    if (outputDiv.id !== \"altair-viz-04cc05a3b8d3403d9b06d507273f1425\") {\n      outputDiv = document.getElementById(\"altair-viz-04cc05a3b8d3403d9b06d507273f1425\");\n    }\n    const paths = {\n      \"vega\": \"https://cdn.jsdelivr.net/npm//vega@5?noext\",\n      \"vega-lib\": \"https://cdn.jsdelivr.net/npm//vega-lib?noext\",\n      \"vega-lite\": \"https://cdn.jsdelivr.net/npm//vega-lite@4.8.1?noext\",\n      \"vega-embed\": \"https://cdn.jsdelivr.net/npm//vega-embed@6?noext\",\n    };\n\n    function loadScript(lib) {\n      return new Promise(function(resolve, reject) {\n        var s = document.createElement('script');\n        s.src = paths[lib];\n        s.async = true;\n        s.onload = () => resolve(paths[lib]);\n        s.onerror = () => reject(`Error loading script: ${paths[lib]}`);\n        document.getElementsByTagName(\"head\")[0].appendChild(s);\n      });\n    }\n\n    function showError(err) {\n      outputDiv.innerHTML = `<div class=\"error\" style=\"color:red;\">${err}</div>`;\n      throw err;\n    }\n\n    function displayChart(vegaEmbed) {\n      vegaEmbed(outputDiv, spec, embedOpt)\n        .catch(err => showError(`Javascript Error: ${err.message}<br>This usually means there's a typo in your chart specification. See the javascript console for the full traceback.`));\n    }\n\n    if(typeof define === \"function\" && define.amd) {\n      requirejs.config({paths});\n      require([\"vega-embed\"], displayChart, err => showError(`Error loading script: ${err.message}`));\n    } else if (typeof vegaEmbed === \"function\") {\n      displayChart(vegaEmbed);\n    } else {\n      loadScript(\"vega\")\n        .then(() => loadScript(\"vega-lite\"))\n        .then(() => loadScript(\"vega-embed\"))\n        .catch(showError)\n        .then(() => displayChart(vegaEmbed));\n    }\n  })({\"config\": {\"view\": {\"continuousWidth\": 400, \"continuousHeight\": 300}}, \"layer\": [{\"mark\": {\"type\": \"line\", \"interpolate\": \"basis\"}, \"encoding\": {\"x\": {\"type\": \"nominal\", \"field\": \"Year\"}, \"y\": {\"type\": \"quantitative\", \"field\": \"Average Drive\", \"scale\": {\"zero\": false}}}}, {\"mark\": \"point\", \"encoding\": {\"opacity\": {\"value\": 0}, \"x\": {\"type\": \"nominal\", \"field\": \"Year\"}}, \"selection\": {\"selector021\": {\"type\": \"single\", \"nearest\": true, \"on\": \"mouseover\", \"fields\": [\"Year\"], \"empty\": \"none\"}}}, {\"mark\": \"point\", \"encoding\": {\"opacity\": {\"condition\": {\"value\": 1, \"selection\": \"selector021\"}, \"value\": 0}, \"x\": {\"type\": \"nominal\", \"field\": \"Year\"}, \"y\": {\"type\": \"quantitative\", \"field\": \"Average Drive\", \"scale\": {\"zero\": false}}}}, {\"mark\": {\"type\": \"rule\", \"color\": \"gray\"}, \"encoding\": {\"x\": {\"type\": \"nominal\", \"field\": \"Year\"}}, \"transform\": [{\"filter\": {\"selection\": \"selector021\"}}]}, {\"mark\": {\"type\": \"text\", \"align\": \"left\", \"dx\": 5, \"dy\": -5}, \"encoding\": {\"text\": {\"condition\": {\"type\": \"quantitative\", \"field\": \"Average Drive\", \"selection\": \"selector021\"}, \"value\": \" \"}, \"x\": {\"type\": \"nominal\", \"field\": \"Year\"}, \"y\": {\"type\": \"quantitative\", \"field\": \"Average Drive\", \"scale\": {\"zero\": false}}}}], \"data\": {\"name\": \"data-0ee5e93db3f05688a9a288c747a09cfa\"}, \"height\": 500, \"width\": 850, \"$schema\": \"https://vega.github.io/schema/vega-lite/v4.8.1.json\", \"datasets\": {\"data-0ee5e93db3f05688a9a288c747a09cfa\": [{\"Year\": 1980, \"Average Drive\": 261}, {\"Year\": 1981, \"Average Drive\": 264}, {\"Year\": 1982, \"Average Drive\": 261}, {\"Year\": 1983, \"Average Drive\": 263}, {\"Year\": 1984, \"Average Drive\": 264}, {\"Year\": 1985, \"Average Drive\": 264}, {\"Year\": 1986, \"Average Drive\": 267}, {\"Year\": 1987, \"Average Drive\": 267}, {\"Year\": 1988, \"Average Drive\": 268}, {\"Year\": 1989, \"Average Drive\": 267}, {\"Year\": 1990, \"Average Drive\": 267}, {\"Year\": 1991, \"Average Drive\": 267}, {\"Year\": 1992, \"Average Drive\": 265}, {\"Year\": 1993, \"Average Drive\": 265}, {\"Year\": 1994, \"Average Drive\": 267}, {\"Year\": 1995, \"Average Drive\": 269}, {\"Year\": 1996, \"Average Drive\": 272}, {\"Year\": 1997, \"Average Drive\": 273}, {\"Year\": 1998, \"Average Drive\": 275}, {\"Year\": 1999, \"Average Drive\": 278}, {\"Year\": 2000, \"Average Drive\": 278}, {\"Year\": 2001, \"Average Drive\": 284}, {\"Year\": 2002, \"Average Drive\": 285}, {\"Year\": 2003, \"Average Drive\": 293}, {\"Year\": 2004, \"Average Drive\": 293}, {\"Year\": 2005, \"Average Drive\": 295}, {\"Year\": 2006, \"Average Drive\": 296}, {\"Year\": 2007, \"Average Drive\": 295}, {\"Year\": 2008, \"Average Drive\": 294}, {\"Year\": 2009, \"Average Drive\": 294}, {\"Year\": 2010, \"Average Drive\": 293}, {\"Year\": 2011, \"Average Drive\": 297}, {\"Year\": 2012, \"Average Drive\": 296}, {\"Year\": 2013, \"Average Drive\": 293}, {\"Year\": 2014, \"Average Drive\": 296}, {\"Year\": 2015, \"Average Drive\": 296}, {\"Year\": 2017, \"Average Drive\": 299}, {\"Year\": 2018, \"Average Drive\": 302}, {\"Year\": 2019, \"Average Drive\": 300}, {\"Year\": 2020, \"Average Drive\": 303}]}}, {\"mode\": \"vega-lite\"});\n</script>",
      "text/plain": [
       "alt.LayerChart(...)"
      ]
     },
     "metadata": {},
     "execution_count": 40
    }
   ],
   "source": [
    "#collapse-hide\n",
    "\n",
    "# Create a selection that chooses the nearest point & selects based on x-value\n",
    "nearest = alt.selection(type='single', nearest=True, on='mouseover',\n",
    "                        fields=['Year'], empty='none')\n",
    "\n",
    "# The basic line\n",
    "line = alt.Chart(df).mark_line(interpolate='basis').encode(\n",
    "    alt.X('Year:N'),\n",
    "    alt.Y('Average Drive:Q', scale=alt.Scale(zero=False)),\n",
    ")\n",
    "\n",
    "# Transparent selectors across the chart. This is what tells us\n",
    "# the x-value of the cursor\n",
    "selectors = alt.Chart(df).mark_point().encode(\n",
    "    x='Year:N',\n",
    "    opacity=alt.value(0),\n",
    ").add_selection(\n",
    "    nearest\n",
    ")\n",
    "\n",
    "# Draw points on the line, and highlight based on selection\n",
    "points = line.mark_point().encode(\n",
    "    opacity=alt.condition(nearest, alt.value(1), alt.value(0))\n",
    ")\n",
    "\n",
    "# Draw text labels near the points, and highlight based on selection\n",
    "text = line.mark_text(align='left', dx=5, dy=-5).encode(\n",
    "    text=alt.condition(nearest, 'Average Drive:Q', alt.value(' '))\n",
    ")\n",
    "\n",
    "# Draw a rule at the location of the selection\n",
    "rules = alt.Chart(df).mark_rule(color='gray').encode(\n",
    "    x='Year:N',\n",
    ").transform_filter(\n",
    "    nearest\n",
    ")\n",
    "\n",
    "# Put the five layers into a chart and bind the data\n",
    "alt.layer(\n",
    "    line, selectors, points, rules, text\n",
    ").properties(\n",
    "    width=850, height=500\n",
    ")"
   ]
  },
  {
   "cell_type": "code",
   "execution_count": null,
   "metadata": {},
   "outputs": [],
   "source": []
  }
 ],
 "metadata": {
  "kernelspec": {
   "display_name": "Python 3",
   "language": "python",
   "name": "python3"
  },
  "language_info": {
   "codemirror_mode": {
    "name": "ipython",
    "version": 3
   },
   "file_extension": ".py",
   "mimetype": "text/x-python",
   "name": "python",
   "nbconvert_exporter": "python",
   "pygments_lexer": "ipython3",
   "version": "3.8.3-final"
  }
 },
 "nbformat": 4,
 "nbformat_minor": 2
}