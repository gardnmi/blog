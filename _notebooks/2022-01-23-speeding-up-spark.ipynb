{
 "cells": [
  {
   "cell_type": "markdown",
   "metadata": {},
   "source": [
    "# Speeding Up Spark\n",
    "> A slow spark query can be painful, especially when spark describes itself as a solution to speeding up big data processes.  In this post we equate a spark table to a poorly designed employee directory and continously improve it until we achieve more than a 20x speed up in performance.\n",
    "\n",
    "- toc: true \n",
    "- badges: true\n",
    "- comments: true\n",
    "- categories: [spark, databricks, python, pyspark]\n",
    "- image: images/undraw_voide.svg"
   ]
  },
  {
   "cell_type": "markdown",
   "metadata": {},
   "source": [
    "## Databricks\n",
    "\n",
    "This post is hosted on databricks.\n",
    "\n",
    "Please click this [link](https://databricks-prod-cloudfront.cloud.databricks.com/public/4027ec902e239c93eaaa8714f173bcfc/4425718940434515/3679530914348429/7582816479706064/latest.html) to view it.\n",
    "\n",
    "It was made using the databricks community edition.  To get the most out of this post please setup a free account and import the notebook into your environment. \n"
   ]
  }
 ],
 "metadata": {
  "interpreter": {
   "hash": "98b0a9b7b4eaaa670588a142fd0a9b87eaafe866f1db4228be72b4211d12040f"
  },
  "kernelspec": {
   "display_name": "Python 3.8.8 64-bit ('base': conda)",
   "name": "python3"
  },
  "language_info": {
   "codemirror_mode": {
    "name": "ipython",
    "version": 3
   },
   "file_extension": ".py",
   "mimetype": "text/x-python",
   "name": "python",
   "nbconvert_exporter": "python",
   "pygments_lexer": "ipython3",
   "version": "3.8.8"
  },
  "orig_nbformat": 2
 },
 "nbformat": 4,
 "nbformat_minor": 2
}
