{
 "cells": [
  {
   "cell_type": "markdown",
   "metadata": {},
   "source": [
    "# Luigi ETL\n",
    "> \"Luigi is a python ETL framework built by Spotify.  I use pandas in my day-to-day job and have created numerous pipeline tasks to move, transform, and analyze data across my organization.  I thought Luigi would be a great addition to help manage these pipelines, but after reading their getting started documentation, it left me scratching my head.\"\n",
    "\n",
    "- toc: true \n",
    "- badges: true\n",
    "- comments: true\n",
    "- categories: [jupyter, pandas, luigi, python]\n",
    "- image: images/undraw_old_day.svg"
   ]
  },
  {
   "cell_type": "markdown",
   "metadata": {},
   "source": [
    "## About\n",
    "\n",
    "Luigi is a python ETL framework built by Spotify.  I use pandas in my day-to-day job and have created numerous pipeline tasks to move, transform, and analyze data across my organization.  I thought Luigi would be a great addition to help manage these pipelines, but after reading their getting started documentation, it left me scratching my head.\n",
    "\n",
    "If you are reading this, then I assume the docs have you confused as well, and hopefully, my post below can provide you with a bit more clarity.  The post assumes you have already read the docs. If you haven't, please read that first before continuing."
   ]
  },
  {
   "cell_type": "code",
   "execution_count": 1,
   "metadata": {
    "ExecuteTime": {
     "end_time": "2020-10-23T20:59:53.111298Z",
     "start_time": "2020-10-23T20:59:40.529601Z"
    }
   },
   "outputs": [],
   "source": [
    "#hide\n",
    "from utils import DisplayablePath"
   ]
  },
  {
   "cell_type": "markdown",
   "metadata": {},
   "source": [
    "## Task Execution\n",
    "\n",
    "Typical ETL Execution:\n",
    "> Task A $\\longrightarrow$ Task B $\\longrightarrow$ Task C\n",
    "\n",
    "Luig ETL Execution:\n",
    "> Task A $\\longleftarrow$ Task B $\\longleftarrow$ Task C\n",
    "\n",
    "The most important thing to understand about Luigi is that it executes the ETL backward (recursively).  It checks first to see if the current task (Task C) is completed.  If not, it will then move backward to check if the previous task is completed (Task B).  Once it finds the first completed task, it will then begin to execute the Tasks moving forward again.  \n",
    "\n",
    "This approach can save you a lot of time in your ETL.  The reason is that you won't re-run completed tasks.  However, this makes it a bit trickier to implement because you can find yourself in a situation where Task B or Task C will always return that they are complete, and Task A will never run again."
   ]
  },
  {
   "cell_type": "markdown",
   "metadata": {},
   "source": [
    "## How are Tasks linked?\n",
    "\n",
    "> Task A $\\longleftarrow$ Task B $\\longleftarrow$ Task C\n",
    "\n",
    "Except for External Tasks, most other tasks are dependent on another Luigi Task. The way you define this dependency is by defining a `requires()` method in the Task Class and defining those dependent tasks(s).  If the task is complete, it won't bother to check the dependent task(s). "
   ]
  },
  {
   "cell_type": "markdown",
   "metadata": {},
   "source": [
    "## What defines a completed Task?\n",
    "\n",
    "Luigi considers a Task completed when the Task output exists.  So if Task A outputs `task_a.csv` and it exists, then Task A will be considered complete.  What the getting started docs fail to mention is that in reality, Task A is complete when Task A's method `complete()` returns `True`.  The `complete()` method default behavior is to check if the output exists. We can override this behavior, and I would probably bet most do that have deployed Luigi into production."
   ]
  },
  {
   "cell_type": "markdown",
   "metadata": {},
   "source": [
    "## Coding Demonstration of Task Execution\n",
    "\n",
    "> Task A $\\longleftarrow$ Task B\n",
    "\n",
    "The below code is an example of how to set up a Luigi Task.  We have two classes, `Task_A` and `Task_B`, where `Task_B` is dependent on `Task_A`.  I've provided comments in the output to help visualize the order of events that take place when the Tasks run.\n",
    "\n",
    "There are few things to note about the code:\n",
    "* `GlobalParam` is a helper class to provide a global variable so I can count the execution events i.e. **1:** complete () ...\n",
    "* I replaced the Luigi `complete()` method with a similar method that checks if the output file exists so we could see the method executed in the print statements.\n",
    "* `MockTarget` creates an in-memory file object that we can write to and check if it exists."
   ]
  },
  {
   "cell_type": "code",
   "execution_count": 2,
   "metadata": {},
   "outputs": [
    {
     "name": "stderr",
     "output_type": "stream",
     "text": [
      "DEBUG: Checking if Task_B() is complete\n",
      "DEBUG: Checking if Task_A() is complete\n",
      "INFO: Informed scheduler that task   Task_B__99914b932b   has status   PENDING\n",
      "INFO: Informed scheduler that task   Task_A__99914b932b   has status   PENDING\n",
      "INFO: Done scheduling tasks\n",
      "INFO: Running Worker with 1 processes\n",
      "DEBUG: Asking scheduler for work...\n",
      "DEBUG: Pending tasks: 2\n",
      "INFO: [pid 2456] Worker Worker(salt=998663148, workers=1, host=DESKTOP-BCU4BGH, username=Mike, pid=2456) running   Task_A()\n",
      "INFO: [pid 2456] Worker Worker(salt=998663148, workers=1, host=DESKTOP-BCU4BGH, username=Mike, pid=2456) done      Task_A()\n",
      "DEBUG: 1 running tasks, waiting for next task to finish\n",
      "INFO: Informed scheduler that task   Task_A__99914b932b   has status   DONE\n",
      "DEBUG: Asking scheduler for work...\n",
      "DEBUG: Pending tasks: 1\n",
      "INFO: [pid 2456] Worker Worker(salt=998663148, workers=1, host=DESKTOP-BCU4BGH, username=Mike, pid=2456) running   Task_B()\n",
      "INFO: [pid 2456] Worker Worker(salt=998663148, workers=1, host=DESKTOP-BCU4BGH, username=Mike, pid=2456) done      Task_B()\n",
      "DEBUG: 1 running tasks, waiting for next task to finish\n",
      "INFO: Informed scheduler that task   Task_B__99914b932b   has status   DONE\n",
      "DEBUG: Asking scheduler for work...\n",
      "DEBUG: Done\n",
      "DEBUG: There are no more tasks to run at this time\n",
      "INFO: Worker Worker(salt=998663148, workers=1, host=DESKTOP-BCU4BGH, username=Mike, pid=2456) was stopped. Shutting down Keep-Alive thread\n",
      "INFO: \n",
      "===== Luigi Execution Summary =====\n",
      "\n",
      "Scheduled 2 tasks of which:\n",
      "* 2 ran successfully:\n",
      "    - 1 Task_A()\n",
      "    - 1 Task_B()\n",
      "\n",
      "This progress looks :) because there were no failed tasks or missing dependencies\n",
      "\n",
      "===== Luigi Execution Summary =====\n",
      "\n"
     ]
    },
    {
     "name": "stdout",
     "output_type": "stream",
     "text": [
      "1: complete() Checking to see if Task_B has been completed\n",
      "2: requires() Task_B is not completed, checking to see if previous tasks are required and completed\n",
      "3: complete() Checking to see if Task_A has been completed\n",
      "4: run() Task_A has no prior Task dependency. It is now running to complete the task\n",
      "5: requires() Task_B is not completed, checking to see if previous tasks are required and completed\n",
      "6: complete() Checking to see if Task_A has been completed\n",
      "7: run() All previous tasks are completed and Task_B is running to complete the task\n",
      "8: All Tasks are completed\n"
     ]
    },
    {
     "data": {
      "text/plain": [
       "True"
      ]
     },
     "execution_count": 2,
     "metadata": {},
     "output_type": "execute_result"
    }
   ],
   "source": [
    "import luigi\n",
    "import pandas as pd\n",
    "from luigi.mock import MockTarget\n",
    "\n",
    "class GlobalParams(luigi.Config):\n",
    "    count = luigi.IntParameter(default=1)\n",
    "\n",
    "class Task_A(luigi.Task):\n",
    "\n",
    "    def output(self):\n",
    "        return MockTarget(\"Task_A\")\n",
    "\n",
    "    def run(self):\n",
    "        print(f\"{g.count}: run() {self.__class__.__name__} has no prior Task dependency. It is now running to complete the task\")\n",
    "        g.count += 1 \n",
    "        out = self.output().open(\"w\")\n",
    "        out.write('complete')\n",
    "        out.close()\n",
    "    \n",
    "    def complete(self):\n",
    "        print(f'{g.count}: complete() Checking to see if {self.__class__.__name__} has been completed')\n",
    "        g.count += 1 \n",
    "        return self.output().exists() \n",
    "\n",
    "        \n",
    "class Task_B(luigi.Task):\n",
    "    \n",
    "    def requires(self):\n",
    "        print(f'{g.count}: requires() {self.__class__.__name__} is not completed, checking to see if previous tasks are required and completed')\n",
    "        g.count += 1 \n",
    "        return Task_A()\n",
    "            \n",
    "    def output(self):\n",
    "        return MockTarget(\"Task_B\")\n",
    "\n",
    "    def run(self):\n",
    "        print(f'{g.count}: run() All previous tasks are completed and {self.__class__.__name__} is running to complete the task')\n",
    "        g.count += 1 \n",
    "        out = self.output().open(\"w\")\n",
    "        out.write('complete')\n",
    "        out.close()\n",
    "        print(f'{g.count}: All Tasks are completed')\n",
    "        \n",
    "    def complete(self):\n",
    "        print(f'{g.count}: complete() Checking to see if {self.__class__.__name__} has been completed')\n",
    "        g.count += 1 \n",
    "        \n",
    "        if self.output().exists():\n",
    "            print(f'{g.count}: All Tasks are completed')\n",
    "        return self.output().exists()\n",
    "\n",
    "g = GlobalParams()\n",
    "luigi.build([Task_B()], local_scheduler=True)"
   ]
  },
  {
   "cell_type": "markdown",
   "metadata": {},
   "source": [
    "When we run the Task a second-time, note how `Task_A` is not referenced.  Luigi checked to see if `Task_B` was complete and stopped the execution since it returned `True`.  That means, that if some file upstream is updated and needed to be transformed by `Task_A`it would not occur since Luigi would always stop at `Task_B`. "
   ]
  },
  {
   "cell_type": "code",
   "execution_count": 3,
   "metadata": {},
   "outputs": [
    {
     "name": "stderr",
     "output_type": "stream",
     "text": [
      "DEBUG: Checking if Task_B() is complete\n",
      "INFO: Informed scheduler that task   Task_B__99914b932b   has status   DONE\n",
      "INFO: Done scheduling tasks\n",
      "INFO: Running Worker with 1 processes\n",
      "DEBUG: Asking scheduler for work...\n",
      "DEBUG: Done\n",
      "DEBUG: There are no more tasks to run at this time\n",
      "INFO: Worker Worker(salt=177125647, workers=1, host=DESKTOP-BCU4BGH, username=Mike, pid=2456) was stopped. Shutting down Keep-Alive thread\n",
      "INFO: \n",
      "===== Luigi Execution Summary =====\n",
      "\n",
      "Scheduled 1 tasks of which:\n",
      "* 1 complete ones were encountered:\n",
      "    - 1 Task_B()\n",
      "\n",
      "Did not run any tasks\n",
      "This progress looks :) because there were no failed tasks or missing dependencies\n",
      "\n",
      "===== Luigi Execution Summary =====\n",
      "\n"
     ]
    },
    {
     "name": "stdout",
     "output_type": "stream",
     "text": [
      "1: complete() Checking to see if Task_B has been completed\n",
      "2: All Tasks are completed\n"
     ]
    },
    {
     "data": {
      "text/plain": [
       "True"
      ]
     },
     "execution_count": 3,
     "metadata": {},
     "output_type": "execute_result"
    }
   ],
   "source": [
    "g.count=1\n",
    "luigi.build([Task_B()], local_scheduler=True)"
   ]
  },
  {
   "cell_type": "code",
   "execution_count": 4,
   "metadata": {},
   "outputs": [],
   "source": [
    "#hide\n",
    "\n",
    "# Clean Up...Remove the Memory Files so be able to run again with same ouput\n",
    "Task_B().output().remove()\n",
    "Task_A().output().remove()"
   ]
  },
  {
   "cell_type": "markdown",
   "metadata": {},
   "source": [
    "## Luigi Paramaters\n",
    "\n",
    "> Words $\\longleftarrow$ Count\n",
    "\n",
    "Parameters are Luigi's intended way to make sure tasks get updated based on some frequency to make sure they don't get stuck in a \"complete\" status.  Luigi offers there own `Parameter` object that is mostly intended to act as a constructor when executing tasks from the command line.\n",
    "\n",
    "Below we have created two new Tasks, `Words` and `Count`.  Each task takes a date as a parameter and appends the date to the file name output.  You'll also notice I removed the `complete()` method.  This means it will default to the original method that also checks if the output target exists more robustly. "
   ]
  },
  {
   "cell_type": "code",
   "execution_count": 5,
   "metadata": {},
   "outputs": [
    {
     "name": "stderr",
     "output_type": "stream",
     "text": [
      "DEBUG: Checking if Count(date=2020-10-26) is complete\n",
      "DEBUG: Checking if Words(date=2020-10-26) is complete\n",
      "INFO: Informed scheduler that task   Count_2020_10_26_424115e443   has status   PENDING\n",
      "INFO: Informed scheduler that task   Words_2020_10_26_424115e443   has status   PENDING\n",
      "INFO: Done scheduling tasks\n",
      "INFO: Running Worker with 1 processes\n",
      "DEBUG: Asking scheduler for work...\n",
      "DEBUG: Pending tasks: 2\n",
      "INFO: [pid 2456] Worker Worker(salt=660151019, workers=1, host=DESKTOP-BCU4BGH, username=Mike, pid=2456) running   Words(date=2020-10-26)\n",
      "INFO: [pid 2456] Worker Worker(salt=660151019, workers=1, host=DESKTOP-BCU4BGH, username=Mike, pid=2456) done      Words(date=2020-10-26)\n",
      "DEBUG: 1 running tasks, waiting for next task to finish\n",
      "INFO: Informed scheduler that task   Words_2020_10_26_424115e443   has status   DONE\n",
      "DEBUG: Asking scheduler for work...\n",
      "DEBUG: Pending tasks: 1\n",
      "INFO: [pid 2456] Worker Worker(salt=660151019, workers=1, host=DESKTOP-BCU4BGH, username=Mike, pid=2456) running   Count(date=2020-10-26)\n",
      "INFO: [pid 2456] Worker Worker(salt=660151019, workers=1, host=DESKTOP-BCU4BGH, username=Mike, pid=2456) done      Count(date=2020-10-26)\n",
      "DEBUG: 1 running tasks, waiting for next task to finish\n",
      "INFO: Informed scheduler that task   Count_2020_10_26_424115e443   has status   DONE\n",
      "DEBUG: Asking scheduler for work...\n",
      "DEBUG: Done\n",
      "DEBUG: There are no more tasks to run at this time\n",
      "INFO: Worker Worker(salt=660151019, workers=1, host=DESKTOP-BCU4BGH, username=Mike, pid=2456) was stopped. Shutting down Keep-Alive thread\n",
      "INFO: \n",
      "===== Luigi Execution Summary =====\n",
      "\n",
      "Scheduled 2 tasks of which:\n",
      "* 2 ran successfully:\n",
      "    - 1 Count(date=2020-10-26)\n",
      "    - 1 Words(date=2020-10-26)\n",
      "\n",
      "This progress looks :) because there were no failed tasks or missing dependencies\n",
      "\n",
      "===== Luigi Execution Summary =====\n",
      "\n"
     ]
    },
    {
     "data": {
      "text/plain": [
       "True"
      ]
     },
     "execution_count": 5,
     "metadata": {},
     "output_type": "execute_result"
    }
   ],
   "source": [
    "import datetime\n",
    "from pathlib import Path\n",
    "OUTPUT_PATH = Path('output')\n",
    "\n",
    "class Words(luigi.Task):\n",
    "    date = luigi.DateParameter(default=datetime.date.today())\n",
    "    \n",
    "    def output(self):\n",
    "        return luigi.LocalTarget(OUTPUT_PATH/f'words_{self.date}.csv')\n",
    "\n",
    "    def run(self):\n",
    "        words = ['apple','banana','grapefruit']\n",
    "\n",
    "        df = pd.DataFrame(dict(words=words))\n",
    "        df.to_csv(self.output().path, index=False)\n",
    "        \n",
    "class Count(luigi.Task):\n",
    "    date = luigi.DateParameter(default=datetime.date.today())\n",
    "    \n",
    "    def requires(self):\n",
    "        # Passing the luigi paramater back to upstream task\n",
    "        return Words(self.date) \n",
    "            \n",
    "    def output(self):\n",
    "        return luigi.LocalTarget(OUTPUT_PATH/f'count_{self.date}.csv')\n",
    "\n",
    "    def run(self):\n",
    "        df = pd.read_csv(self.input().path)\n",
    "        df['letter_count'] = df.words.map(len)\n",
    "        df.to_csv(self.output().path, index=False)\n",
    "        \n",
    "luigi.build([Count()], local_scheduler=True)"
   ]
  },
  {
   "cell_type": "code",
   "execution_count": 6,
   "metadata": {},
   "outputs": [
    {
     "name": "stdout",
     "output_type": "stream",
     "text": [
      "//Directory Tree:\n",
      "output/\n",
      "├── count_2020-10-26.csv\n",
      "└── words_2020-10-26.csv\n"
     ]
    }
   ],
   "source": [
    "#hide_input\n",
    "\n",
    "# Used to display the files for demonstration purposes\n",
    "paths = DisplayablePath.make_tree(OUTPUT_PATH)\n",
    "print('//Directory Tree:')\n",
    "for path in paths:\n",
    "    print(path.displayable())"
   ]
  },
  {
   "cell_type": "markdown",
   "metadata": {},
   "source": [
    "Above, our Tasks ran successfully and saved the outputs in our output directory.  So what happens if we were to run it a second time?"
   ]
  },
  {
   "cell_type": "code",
   "execution_count": 7,
   "metadata": {},
   "outputs": [
    {
     "name": "stderr",
     "output_type": "stream",
     "text": [
      "DEBUG: Checking if Count(date=2020-10-26) is complete\n",
      "INFO: Informed scheduler that task   Count_2020_10_26_424115e443   has status   DONE\n",
      "INFO: Done scheduling tasks\n",
      "INFO: Running Worker with 1 processes\n",
      "DEBUG: Asking scheduler for work...\n",
      "DEBUG: Done\n",
      "DEBUG: There are no more tasks to run at this time\n",
      "INFO: Worker Worker(salt=832748578, workers=1, host=DESKTOP-BCU4BGH, username=Mike, pid=2456) was stopped. Shutting down Keep-Alive thread\n",
      "INFO: \n",
      "===== Luigi Execution Summary =====\n",
      "\n",
      "Scheduled 1 tasks of which:\n",
      "* 1 complete ones were encountered:\n",
      "    - 1 Count(date=2020-10-26)\n",
      "\n",
      "Did not run any tasks\n",
      "This progress looks :) because there were no failed tasks or missing dependencies\n",
      "\n",
      "===== Luigi Execution Summary =====\n",
      "\n"
     ]
    },
    {
     "data": {
      "text/plain": [
       "True"
      ]
     },
     "execution_count": 7,
     "metadata": {},
     "output_type": "execute_result"
    }
   ],
   "source": [
    "luigi.build([Count()], local_scheduler=True)"
   ]
  },
  {
   "cell_type": "code",
   "execution_count": 8,
   "metadata": {},
   "outputs": [
    {
     "name": "stdout",
     "output_type": "stream",
     "text": [
      "//Directory Tree:\n",
      "output/\n",
      "├── count_2020-10-26.csv\n",
      "└── words_2020-10-26.csv\n"
     ]
    }
   ],
   "source": [
    "#hide_input\n",
    "\n",
    "# Used to display the files for demonstration purposes\n",
    "paths = DisplayablePath.make_tree(OUTPUT_PATH)\n",
    "print('//Directory Tree:')\n",
    "for path in paths:\n",
    "    print(path.displayable())"
   ]
  },
  {
   "cell_type": "markdown",
   "metadata": {},
   "source": [
    "As you can see, nothing happened since the `Count` task encountered an output that already existed with the same name.  Below we'll provide a different date to the `Count` task."
   ]
  },
  {
   "cell_type": "code",
   "execution_count": 9,
   "metadata": {},
   "outputs": [
    {
     "name": "stderr",
     "output_type": "stream",
     "text": [
      "DEBUG: Checking if Count(date=2021-10-25) is complete\n",
      "DEBUG: Checking if Words(date=2021-10-25) is complete\n",
      "INFO: Informed scheduler that task   Count_2021_10_25_8a7563aba6   has status   PENDING\n",
      "INFO: Informed scheduler that task   Words_2021_10_25_8a7563aba6   has status   PENDING\n",
      "INFO: Done scheduling tasks\n",
      "INFO: Running Worker with 1 processes\n",
      "DEBUG: Asking scheduler for work...\n",
      "DEBUG: Pending tasks: 2\n",
      "INFO: [pid 2456] Worker Worker(salt=766530749, workers=1, host=DESKTOP-BCU4BGH, username=Mike, pid=2456) running   Words(date=2021-10-25)\n",
      "INFO: [pid 2456] Worker Worker(salt=766530749, workers=1, host=DESKTOP-BCU4BGH, username=Mike, pid=2456) done      Words(date=2021-10-25)\n",
      "DEBUG: 1 running tasks, waiting for next task to finish\n",
      "INFO: Informed scheduler that task   Words_2021_10_25_8a7563aba6   has status   DONE\n",
      "DEBUG: Asking scheduler for work...\n",
      "DEBUG: Pending tasks: 1\n",
      "INFO: [pid 2456] Worker Worker(salt=766530749, workers=1, host=DESKTOP-BCU4BGH, username=Mike, pid=2456) running   Count(date=2021-10-25)\n",
      "INFO: [pid 2456] Worker Worker(salt=766530749, workers=1, host=DESKTOP-BCU4BGH, username=Mike, pid=2456) done      Count(date=2021-10-25)\n",
      "DEBUG: 1 running tasks, waiting for next task to finish\n",
      "INFO: Informed scheduler that task   Count_2021_10_25_8a7563aba6   has status   DONE\n",
      "DEBUG: Asking scheduler for work...\n",
      "DEBUG: Done\n",
      "DEBUG: There are no more tasks to run at this time\n",
      "INFO: Worker Worker(salt=766530749, workers=1, host=DESKTOP-BCU4BGH, username=Mike, pid=2456) was stopped. Shutting down Keep-Alive thread\n",
      "INFO: \n",
      "===== Luigi Execution Summary =====\n",
      "\n",
      "Scheduled 2 tasks of which:\n",
      "* 2 ran successfully:\n",
      "    - 1 Count(date=2021-10-25)\n",
      "    - 1 Words(date=2021-10-25)\n",
      "\n",
      "This progress looks :) because there were no failed tasks or missing dependencies\n",
      "\n",
      "===== Luigi Execution Summary =====\n",
      "\n"
     ]
    },
    {
     "data": {
      "text/plain": [
       "True"
      ]
     },
     "execution_count": 9,
     "metadata": {},
     "output_type": "execute_result"
    }
   ],
   "source": [
    "luigi.build([Count(date=pd.to_datetime('10/25/2021'))], local_scheduler=True)"
   ]
  },
  {
   "cell_type": "code",
   "execution_count": 10,
   "metadata": {},
   "outputs": [
    {
     "name": "stdout",
     "output_type": "stream",
     "text": [
      "//Directory Tree:\n",
      "output/\n",
      "├── count_2020-10-26.csv\n",
      "├── count_2021-10-25.csv\n",
      "├── words_2020-10-26.csv\n",
      "└── words_2021-10-25.csv\n"
     ]
    }
   ],
   "source": [
    "#hide_input\n",
    "\n",
    "# Used to display the files for demonstration purposes\n",
    "paths = DisplayablePath.make_tree(OUTPUT_PATH)\n",
    "print('//Directory Tree:')\n",
    "for path in paths:\n",
    "    print(path.displayable())"
   ]
  },
  {
   "cell_type": "code",
   "execution_count": 11,
   "metadata": {},
   "outputs": [],
   "source": [
    "#hide\n",
    "\n",
    "# Remove Files\n",
    "for file in OUTPUT_PATH.glob('*'):\n",
    "    file.unlink()"
   ]
  },
  {
   "cell_type": "markdown",
   "metadata": {},
   "source": [
    "## External Tasks"
   ]
  },
  {
   "cell_type": "markdown",
   "metadata": {},
   "source": [
    "If your pipeline starts with some dependency from an External Task, you can utilize the `ExternalTask` object.  The `External Task` is the same as the `Task` object except it doesn't have a `run()` method.\n",
    "\n",
    "`External Task` is useful because it allows for your task to gracefully end a job if the external source criteria are not met."
   ]
  },
  {
   "cell_type": "code",
   "execution_count": 12,
   "metadata": {},
   "outputs": [
    {
     "name": "stderr",
     "output_type": "stream",
     "text": [
      "DEBUG: Checking if Words() is complete\n",
      "WARNING: Data for Words() does not exist (yet?). The task is an external data dependency, so it cannot be run from this luigi process.\n",
      "INFO: Informed scheduler that task   Words__99914b932b   has status   PENDING\n",
      "INFO: Done scheduling tasks\n",
      "INFO: Running Worker with 1 processes\n",
      "DEBUG: Asking scheduler for work...\n",
      "DEBUG: Done\n",
      "DEBUG: There are no more tasks to run at this time\n",
      "INFO: Worker Worker(salt=806349904, workers=1, host=DESKTOP-BCU4BGH, username=Mike, pid=2456) was stopped. Shutting down Keep-Alive thread\n",
      "INFO: \n",
      "===== Luigi Execution Summary =====\n",
      "\n",
      "Scheduled 1 tasks of which:\n",
      "* 1 were left pending, among these:\n",
      "    * 1 were missing external dependencies:\n",
      "        - 1 Words()\n",
      "\n",
      "Did not run any tasks\n",
      "This progress looks :| because there were missing external dependencies\n",
      "\n",
      "===== Luigi Execution Summary =====\n",
      "\n"
     ]
    },
    {
     "data": {
      "text/plain": [
       "True"
      ]
     },
     "execution_count": 12,
     "metadata": {},
     "output_type": "execute_result"
    }
   ],
   "source": [
    "class Words(luigi.ExternalTask):\n",
    "    def output(self):\n",
    "        return luigi.LocalTarget(OUTPUT_PATH/f'words.csv')\n",
    "\n",
    "luigi.build([Words()], local_scheduler=True)"
   ]
  },
  {
   "cell_type": "markdown",
   "metadata": {},
   "source": [
    "Above, the `Words` external task did not run because `words.csv`, the external dependency, was missing."
   ]
  },
  {
   "cell_type": "code",
   "execution_count": 13,
   "metadata": {},
   "outputs": [],
   "source": [
    "OUTPUT_PATH = Path('output')\n",
    "\n",
    "words = ['apple','banana','grapefruit']\n",
    "\n",
    "df = pd.DataFrame(dict(words=words))\n",
    "df.to_csv(OUTPUT_PATH/'words.csv', index=False)"
   ]
  },
  {
   "cell_type": "markdown",
   "metadata": {},
   "source": [
    "Now that we created `words.csv` our external task will return as completed and pass its output to the next Task if it exists."
   ]
  },
  {
   "cell_type": "code",
   "execution_count": 14,
   "metadata": {},
   "outputs": [
    {
     "name": "stderr",
     "output_type": "stream",
     "text": [
      "DEBUG: Checking if Words() is complete\n",
      "INFO: Informed scheduler that task   Words__99914b932b   has status   DONE\n",
      "INFO: Done scheduling tasks\n",
      "INFO: Running Worker with 1 processes\n",
      "DEBUG: Asking scheduler for work...\n",
      "DEBUG: Done\n",
      "DEBUG: There are no more tasks to run at this time\n",
      "INFO: Worker Worker(salt=781673351, workers=1, host=DESKTOP-BCU4BGH, username=Mike, pid=2456) was stopped. Shutting down Keep-Alive thread\n",
      "INFO: \n",
      "===== Luigi Execution Summary =====\n",
      "\n",
      "Scheduled 1 tasks of which:\n",
      "* 1 complete ones were encountered:\n",
      "    - 1 Words()\n",
      "\n",
      "Did not run any tasks\n",
      "This progress looks :) because there were no failed tasks or missing dependencies\n",
      "\n",
      "===== Luigi Execution Summary =====\n",
      "\n"
     ]
    },
    {
     "data": {
      "text/plain": [
       "True"
      ]
     },
     "execution_count": 14,
     "metadata": {},
     "output_type": "execute_result"
    }
   ],
   "source": [
    "luigi.build([Words()], local_scheduler=True)"
   ]
  },
  {
   "cell_type": "markdown",
   "metadata": {},
   "source": [
    "## Alternate Complete Method"
   ]
  },
  {
   "cell_type": "markdown",
   "metadata": {},
   "source": [
    "As I mentioned earlier, by default Luigi determines if a Task is complete by checking if the output exists.  However, there is a common use case in pipeline workflows where Tasks should be run when a file is updated.  Since Luigi only checks the output name it will determine that a Task is completed no matter how many times a file gets updated.\n",
    "\n",
    "However, we can override this method by overriding the `complete()` method in the `Task` object by defining your criteria.  It needs to return `False` if the task is not complete and `True` if the task is complete.\n",
    "\n",
    "Below we will create our own `complete()` function that will update all tasks where their dependent task output files have been updated.  It will first check to see if the dependency tasks have been completed, then check to see if the modified time of the output of the current task is greater than the modified time of the prior task's output."
   ]
  },
  {
   "cell_type": "code",
   "execution_count": 20,
   "metadata": {},
   "outputs": [],
   "source": [
    "import os\n",
    "import time\n",
    "\n",
    "class Words(luigi.ExternalTask):\n",
    "    def output(self):\n",
    "        return luigi.LocalTarget(OUTPUT_PATH/'words.csv')\n",
    "    \n",
    "class CountLetters(luigi.Task):\n",
    "\n",
    "    def requires(self):\n",
    "        return Words()\n",
    "\n",
    "    # Custom Complete Method\n",
    "    def complete(self):        \n",
    "        if not self.output().exists():\n",
    "            print('//Count Letters: No Output File')\n",
    "            return False\n",
    "\n",
    "        input_mtime = time.ctime(os.path.getmtime(self.input().path))\n",
    "        output_mtime = time.ctime(os.path.getmtime(self.output().path))            \n",
    "        \n",
    "        if output_mtime < input_mtime:\n",
    "            print('//Count Letters: File Out of Date')\n",
    "            return False\n",
    "        \n",
    "        print('//Count Letters: Task is Complete')\n",
    "        return True\n",
    "\n",
    "    \n",
    "    def output(self):\n",
    "        return luigi.LocalTarget(OUTPUT_PATH/'count_letters.csv')\n",
    "\n",
    "    def run(self):\n",
    "        df = pd.read_csv(self.input().path)\n",
    "        df['letter_count'] = df.words.map(len)\n",
    "        df.to_csv(self.output().path, index=False)"
   ]
  },
  {
   "cell_type": "code",
   "execution_count": 16,
   "metadata": {},
   "outputs": [
    {
     "name": "stderr",
     "output_type": "stream",
     "text": [
      "DEBUG: Checking if CountLetters() is complete\n",
      "DEBUG: Checking if Words() is complete\n",
      "INFO: Informed scheduler that task   CountLetters__99914b932b   has status   PENDING\n",
      "INFO: Informed scheduler that task   Words__99914b932b   has status   DONE\n",
      "INFO: Done scheduling tasks\n",
      "INFO: Running Worker with 1 processes\n",
      "DEBUG: Asking scheduler for work...\n",
      "DEBUG: Pending tasks: 1\n",
      "INFO: [pid 2456] Worker Worker(salt=437114638, workers=1, host=DESKTOP-BCU4BGH, username=Mike, pid=2456) running   CountLetters()\n",
      "INFO: [pid 2456] Worker Worker(salt=437114638, workers=1, host=DESKTOP-BCU4BGH, username=Mike, pid=2456) done      CountLetters()\n",
      "DEBUG: 1 running tasks, waiting for next task to finish\n",
      "INFO: Informed scheduler that task   CountLetters__99914b932b   has status   DONE\n",
      "DEBUG: Asking scheduler for work...\n",
      "DEBUG: Done\n",
      "DEBUG: There are no more tasks to run at this time\n",
      "INFO: Worker Worker(salt=437114638, workers=1, host=DESKTOP-BCU4BGH, username=Mike, pid=2456) was stopped. Shutting down Keep-Alive thread\n",
      "INFO: \n",
      "===== Luigi Execution Summary =====\n",
      "\n",
      "Scheduled 2 tasks of which:\n",
      "* 1 complete ones were encountered:\n",
      "    - 1 Words()\n",
      "* 1 ran successfully:\n",
      "    - 1 CountLetters()\n",
      "\n",
      "This progress looks :) because there were no failed tasks or missing dependencies\n",
      "\n",
      "===== Luigi Execution Summary =====\n",
      "\n"
     ]
    },
    {
     "name": "stdout",
     "output_type": "stream",
     "text": [
      "//Count Letters: No Output File\n"
     ]
    },
    {
     "data": {
      "text/plain": [
       "True"
      ]
     },
     "execution_count": 16,
     "metadata": {},
     "output_type": "execute_result"
    }
   ],
   "source": [
    "luigi.build([CountLetters()], local_scheduler=True)"
   ]
  },
  {
   "cell_type": "code",
   "execution_count": 17,
   "metadata": {},
   "outputs": [
    {
     "name": "stdout",
     "output_type": "stream",
     "text": [
      "//Directory Tree:\n",
      "output/\n",
      "├── count_letters.csv\n",
      "└── words.csv\n"
     ]
    }
   ],
   "source": [
    "#hide_input\n",
    "\n",
    "# Used to display the files for demonstration purposes\n",
    "paths = DisplayablePath.make_tree(OUTPUT_PATH)\n",
    "print('//Directory Tree:')\n",
    "for path in paths:\n",
    "    print(path.displayable())"
   ]
  },
  {
   "cell_type": "markdown",
   "metadata": {},
   "source": [
    "When we run the task again it doesn't run any tasks because `words.csv` exists and its modified time (mtime) is less than `count_letters.csv` modified time."
   ]
  },
  {
   "cell_type": "code",
   "execution_count": 18,
   "metadata": {},
   "outputs": [
    {
     "name": "stderr",
     "output_type": "stream",
     "text": [
      "DEBUG: Checking if CountLetters() is complete\n",
      "INFO: Informed scheduler that task   CountLetters__99914b932b   has status   DONE\n",
      "INFO: Done scheduling tasks\n",
      "INFO: Running Worker with 1 processes\n",
      "DEBUG: Asking scheduler for work...\n",
      "DEBUG: Done\n",
      "DEBUG: There are no more tasks to run at this time\n",
      "INFO: Worker Worker(salt=438850535, workers=1, host=DESKTOP-BCU4BGH, username=Mike, pid=2456) was stopped. Shutting down Keep-Alive thread\n",
      "INFO: \n",
      "===== Luigi Execution Summary =====\n",
      "\n",
      "Scheduled 1 tasks of which:\n",
      "* 1 complete ones were encountered:\n",
      "    - 1 CountLetters()\n",
      "\n",
      "Did not run any tasks\n",
      "This progress looks :) because there were no failed tasks or missing dependencies\n",
      "\n",
      "===== Luigi Execution Summary =====\n",
      "\n"
     ]
    },
    {
     "name": "stdout",
     "output_type": "stream",
     "text": [
      "//Count Letters: Task is Complete\n"
     ]
    },
    {
     "data": {
      "text/plain": [
       "True"
      ]
     },
     "execution_count": 18,
     "metadata": {},
     "output_type": "execute_result"
    }
   ],
   "source": [
    "luigi.build([CountLetters()], local_scheduler=True)"
   ]
  },
  {
   "cell_type": "markdown",
   "metadata": {},
   "source": [
    "We will now update `count_letters.csv` to include a few more words and watch our Luigi run the Task because of the updated modification times on the files."
   ]
  },
  {
   "cell_type": "code",
   "execution_count": 19,
   "metadata": {},
   "outputs": [
    {
     "name": "stderr",
     "output_type": "stream",
     "text": [
      "DEBUG: Checking if CountLetters() is complete\n",
      "DEBUG: Checking if Words() is complete\n",
      "INFO: Informed scheduler that task   CountLetters__99914b932b   has status   PENDING\n",
      "INFO: Informed scheduler that task   Words__99914b932b   has status   DONE\n",
      "INFO: Done scheduling tasks\n",
      "INFO: Running Worker with 1 processes\n",
      "DEBUG: Asking scheduler for work...\n",
      "DEBUG: Pending tasks: 1\n",
      "INFO: [pid 2456] Worker Worker(salt=695141065, workers=1, host=DESKTOP-BCU4BGH, username=Mike, pid=2456) running   CountLetters()\n",
      "INFO: [pid 2456] Worker Worker(salt=695141065, workers=1, host=DESKTOP-BCU4BGH, username=Mike, pid=2456) done      CountLetters()\n",
      "DEBUG: 1 running tasks, waiting for next task to finish\n",
      "INFO: Informed scheduler that task   CountLetters__99914b932b   has status   DONE\n",
      "DEBUG: Asking scheduler for work...\n",
      "DEBUG: Done\n",
      "DEBUG: There are no more tasks to run at this time\n",
      "INFO: Worker Worker(salt=695141065, workers=1, host=DESKTOP-BCU4BGH, username=Mike, pid=2456) was stopped. Shutting down Keep-Alive thread\n",
      "INFO: \n",
      "===== Luigi Execution Summary =====\n",
      "\n",
      "Scheduled 2 tasks of which:\n",
      "* 1 complete ones were encountered:\n",
      "    - 1 Words()\n",
      "* 1 ran successfully:\n",
      "    - 1 CountLetters()\n",
      "\n",
      "This progress looks :) because there were no failed tasks or missing dependencies\n",
      "\n",
      "===== Luigi Execution Summary =====\n",
      "\n"
     ]
    },
    {
     "name": "stdout",
     "output_type": "stream",
     "text": [
      "//Count Letters: File Out of Date\n"
     ]
    },
    {
     "data": {
      "text/plain": [
       "True"
      ]
     },
     "execution_count": 19,
     "metadata": {},
     "output_type": "execute_result"
    }
   ],
   "source": [
    "words = ['apple','banana','grapefruit', 'cherry', 'orange']\n",
    "\n",
    "df = pd.DataFrame(dict(words=words))\n",
    "df.to_csv(OUTPUT_PATH/'words.csv', index=False)\n",
    "\n",
    "luigi.build([CountLetters()], local_scheduler=True)"
   ]
  },
  {
   "cell_type": "markdown",
   "metadata": {},
   "source": [
    "## SQL Tasks"
   ]
  },
  {
   "cell_type": "markdown",
   "metadata": {},
   "source": [
    "> Words $\\longleftarrow$ Count $\\longleftarrow$ StoreSQL $\\longleftarrow$ PrintSQL\n",
    "\n",
    "SQL is a common step in many pipelines but the Luigi getting started docs barely cover the topic.  In this section we will create two new tasks.  The first task, `StoreSql`, will take the ouput from `CountLetters` and store it in a `SQLite` database.  The second task, `PrintSQL`, will then read from out database and print both tables that Luigi created."
   ]
  },
  {
   "cell_type": "markdown",
   "metadata": {},
   "source": [
    "The big difference between `LocalTarget`  is that `SQLAlchemyTarget` creates and updates a \"Marker Table\" to keep track of whether a task is complete or not.  You provide the Marker Table with a `update_id` and Luigi will check if it exists before running the Task.\n",
    "\n",
    "Below I've provided the code for our `StoreSQL` and `PrintSQL` tasks.  There are a couple of things worth noting.\n",
    "\n",
    "* We have overridden the `complete()` method to check if the prior task `CountLetters` has been completed and if the `StoreSQL` task output exists.  If either returns `False` the Task will run.\n",
    "* We are creating an SQLite database called `my.db`.\n",
    "* `self.output().touch()` is what marks the Task as complete and creates/updates the Marker Table\n",
    "* `PrintSQL` is complete method is set to False so that it always runs for demonstration purposes."
   ]
  },
  {
   "cell_type": "code",
   "execution_count": 21,
   "metadata": {},
   "outputs": [
    {
     "name": "stdout",
     "output_type": "stream",
     "text": [
      "//Directory Tree:\n",
      "output/\n",
      "├── count_letters.csv\n",
      "└── words.csv\n"
     ]
    }
   ],
   "source": [
    "#hide_input\n",
    "\n",
    "# Used to display the files for demonstration purposes\n",
    "paths = DisplayablePath.make_tree(OUTPUT_PATH)\n",
    "print('//Directory Tree:')\n",
    "for path in paths:\n",
    "    print(path.displayable())"
   ]
  },
  {
   "cell_type": "code",
   "execution_count": 22,
   "metadata": {},
   "outputs": [],
   "source": [
    "from luigi.contrib import sqla\n",
    "from sqlalchemy import create_engine\n",
    "\n",
    "OUTPUT_PATH = Path('output')\n",
    "connection_string = f\"sqlite:///{OUTPUT_PATH}/my.db\"\n",
    "\n",
    "outputs = []\n",
    "\n",
    "class StoreSQL(luigi.Task):\n",
    "    connection_string = luigi.Parameter()\n",
    "    target_table = luigi.Parameter()\n",
    "    \n",
    "    @property\n",
    "    def update_id(self):\n",
    "        mtime = os.path.getmtime(self.input().path)\n",
    "        mtime = datetime.datetime.fromtimestamp(mtime).strftime(\"%Y-%m-%d %H:%M:%S\")\n",
    "        return mtime + '_' + self.target_table\n",
    "\n",
    "    def complete(self):\n",
    "        \n",
    "        if not self.output().exists():\n",
    "            return False\n",
    "        \n",
    "        if not self.requires().complete():\n",
    "            return False\n",
    "        \n",
    "        return True\n",
    "        \n",
    "    def requires(self):\n",
    "        return CountLetters()\n",
    "\n",
    "    def output(self):\n",
    "        return sqla.SQLAlchemyTarget(\n",
    "            connection_string=self.connection_string,\n",
    "            target_table=self.target_table,\n",
    "            update_id=self.update_id\n",
    "        )\n",
    "\n",
    "    def run(self):\n",
    "        self.requires().complete()\n",
    "        con = self.output().engine\n",
    "        df = pd.read_csv(self.input().path)\n",
    "        df.to_sql(name=self.target_table, con=con, if_exists='replace')\n",
    "\n",
    "        # Update Marker Table\n",
    "        self.output().touch()\n",
    "\n",
    "\n",
    "class PrintSQL(luigi.Task):\n",
    "    connection_string = luigi.Parameter()\n",
    "    target_table = luigi.Parameter()\n",
    "    \n",
    "    def requires(self):\n",
    "        return StoreSQL(self.connection_string, self.target_table)\n",
    "\n",
    "    def complete(self):\n",
    "        return False\n",
    "\n",
    "    def output(self):\n",
    "        pass\n",
    "\n",
    "    def run(self):\n",
    "        input = self.input()\n",
    "        con = input.engine\n",
    "        table = input.target_table\n",
    "        \n",
    "        print('// Letter Count Table')\n",
    "        print(pd.read_sql(sql=table, con=con), end='\\n\\n')\n",
    "        print('// Marker Table')\n",
    "        print(pd.read_sql(sql='table_updates', con=con))"
   ]
  },
  {
   "cell_type": "code",
   "execution_count": 23,
   "metadata": {},
   "outputs": [
    {
     "name": "stderr",
     "output_type": "stream",
     "text": [
      "DEBUG: Checking if PrintSQL(connection_string=sqlite:///output/my.db, target_table=letter_count) is complete\n",
      "DEBUG: Checking if StoreSQL(connection_string=sqlite:///output/my.db, target_table=letter_count) is complete\n",
      "INFO: Informed scheduler that task   PrintSQL_sqlite____output_letter_count_4c5210e673   has status   PENDING\n",
      "DEBUG: Checking if CountLetters() is complete\n",
      "INFO: Informed scheduler that task   StoreSQL_sqlite____output_letter_count_4c5210e673   has status   PENDING\n",
      "INFO: Informed scheduler that task   CountLetters__99914b932b   has status   DONE\n",
      "INFO: Done scheduling tasks\n",
      "INFO: Running Worker with 1 processes\n",
      "DEBUG: Asking scheduler for work...\n",
      "DEBUG: Pending tasks: 2\n",
      "INFO: [pid 2456] Worker Worker(salt=382729348, workers=1, host=DESKTOP-BCU4BGH, username=Mike, pid=2456) running   StoreSQL(connection_string=sqlite:///output/my.db, target_table=letter_count)\n",
      "INFO: [pid 2456] Worker Worker(salt=382729348, workers=1, host=DESKTOP-BCU4BGH, username=Mike, pid=2456) done      StoreSQL(connection_string=sqlite:///output/my.db, target_table=letter_count)\n",
      "DEBUG: 1 running tasks, waiting for next task to finish\n",
      "INFO: Informed scheduler that task   StoreSQL_sqlite____output_letter_count_4c5210e673   has status   DONE\n",
      "DEBUG: Asking scheduler for work...\n",
      "DEBUG: Pending tasks: 1\n",
      "INFO: [pid 2456] Worker Worker(salt=382729348, workers=1, host=DESKTOP-BCU4BGH, username=Mike, pid=2456) running   PrintSQL(connection_string=sqlite:///output/my.db, target_table=letter_count)\n",
      "INFO: [pid 2456] Worker Worker(salt=382729348, workers=1, host=DESKTOP-BCU4BGH, username=Mike, pid=2456) done      PrintSQL(connection_string=sqlite:///output/my.db, target_table=letter_count)\n",
      "DEBUG: 1 running tasks, waiting for next task to finish\n",
      "INFO: Informed scheduler that task   PrintSQL_sqlite____output_letter_count_4c5210e673   has status   DONE\n",
      "DEBUG: Asking scheduler for work...\n",
      "DEBUG: Done\n",
      "DEBUG: There are no more tasks to run at this time\n",
      "INFO: Worker Worker(salt=382729348, workers=1, host=DESKTOP-BCU4BGH, username=Mike, pid=2456) was stopped. Shutting down Keep-Alive thread\n",
      "INFO: \n",
      "===== Luigi Execution Summary =====\n",
      "\n",
      "Scheduled 3 tasks of which:\n",
      "* 1 complete ones were encountered:\n",
      "    - 1 CountLetters()\n",
      "* 2 ran successfully:\n",
      "    - 1 PrintSQL(connection_string=sqlite:///output/my.db, target_table=letter_count)\n",
      "    - 1 StoreSQL(connection_string=sqlite:///output/my.db, target_table=letter_count)\n",
      "\n",
      "This progress looks :) because there were no failed tasks or missing dependencies\n",
      "\n",
      "===== Luigi Execution Summary =====\n",
      "\n"
     ]
    },
    {
     "name": "stdout",
     "output_type": "stream",
     "text": [
      "// Letter Count Table\n",
      "   index       words  letter_count\n",
      "0      0       apple             5\n",
      "1      1      banana             6\n",
      "2      2  grapefruit            10\n",
      "3      3      cherry             6\n",
      "4      4      orange             6\n",
      "\n",
      "// Marker Table\n",
      "                          update_id  target_table                   inserted\n",
      "0  2020-10-26 17:09:56_letter_count  letter_count 2020-10-26 17:10:30.763616\n"
     ]
    },
    {
     "data": {
      "text/plain": [
       "True"
      ]
     },
     "execution_count": 23,
     "metadata": {},
     "output_type": "execute_result"
    }
   ],
   "source": [
    "luigi.build([PrintSQL(connection_string, target_table='letter_count')], local_scheduler=True)"
   ]
  },
  {
   "cell_type": "code",
   "execution_count": 24,
   "metadata": {},
   "outputs": [
    {
     "name": "stdout",
     "output_type": "stream",
     "text": [
      "Output Directory Tree:\n",
      "output/\n",
      "├── count_letters.csv\n",
      "├── my.db\n",
      "└── words.csv\n"
     ]
    }
   ],
   "source": [
    "# Used to display the files for demonstration purposes\n",
    "paths = DisplayablePath.make_tree(OUTPUT_PATH)\n",
    "print('Output Directory Tree:')\n",
    "for path in paths:\n",
    "    print(path.displayable())"
   ]
  },
  {
   "cell_type": "markdown",
   "metadata": {},
   "source": [
    "As you can see from above, our SQL Task has updated two tables and printed out the table results.  If you look at the Marker table `update_id` column you'll notice it is the concatenation of our `count_letters.csv` mtime and target table name.\n",
    "\n",
    "Now let's update our `words.csv` and see what happens when we run the task again."
   ]
  },
  {
   "cell_type": "code",
   "execution_count": 25,
   "metadata": {},
   "outputs": [
    {
     "name": "stderr",
     "output_type": "stream",
     "text": [
      "DEBUG: Checking if PrintSQL(connection_string=sqlite:///output/my.db, target_table=letter_count) is complete\n",
      "DEBUG: Checking if StoreSQL(connection_string=sqlite:///output/my.db, target_table=letter_count) is complete\n",
      "INFO: Informed scheduler that task   PrintSQL_sqlite____output_letter_count_4c5210e673   has status   PENDING\n",
      "DEBUG: Checking if CountLetters() is complete\n",
      "INFO: Informed scheduler that task   StoreSQL_sqlite____output_letter_count_4c5210e673   has status   PENDING\n",
      "DEBUG: Checking if Words() is complete\n",
      "INFO: Informed scheduler that task   CountLetters__99914b932b   has status   PENDING\n",
      "INFO: Informed scheduler that task   Words__99914b932b   has status   DONE\n",
      "INFO: Done scheduling tasks\n",
      "INFO: Running Worker with 1 processes\n",
      "DEBUG: Asking scheduler for work...\n",
      "DEBUG: Pending tasks: 3\n",
      "INFO: [pid 2456] Worker Worker(salt=051857807, workers=1, host=DESKTOP-BCU4BGH, username=Mike, pid=2456) running   CountLetters()\n",
      "INFO: [pid 2456] Worker Worker(salt=051857807, workers=1, host=DESKTOP-BCU4BGH, username=Mike, pid=2456) done      CountLetters()\n",
      "DEBUG: 1 running tasks, waiting for next task to finish\n",
      "INFO: Informed scheduler that task   CountLetters__99914b932b   has status   DONE\n",
      "DEBUG: Asking scheduler for work...\n",
      "DEBUG: Pending tasks: 2\n",
      "INFO: [pid 2456] Worker Worker(salt=051857807, workers=1, host=DESKTOP-BCU4BGH, username=Mike, pid=2456) running   StoreSQL(connection_string=sqlite:///output/my.db, target_table=letter_count)\n",
      "INFO: [pid 2456] Worker Worker(salt=051857807, workers=1, host=DESKTOP-BCU4BGH, username=Mike, pid=2456) done      StoreSQL(connection_string=sqlite:///output/my.db, target_table=letter_count)\n",
      "DEBUG: 1 running tasks, waiting for next task to finish\n",
      "INFO: Informed scheduler that task   StoreSQL_sqlite____output_letter_count_4c5210e673   has status   DONE\n",
      "DEBUG: Asking scheduler for work...\n",
      "DEBUG: Pending tasks: 1\n",
      "INFO: [pid 2456] Worker Worker(salt=051857807, workers=1, host=DESKTOP-BCU4BGH, username=Mike, pid=2456) running   PrintSQL(connection_string=sqlite:///output/my.db, target_table=letter_count)\n",
      "INFO: [pid 2456] Worker Worker(salt=051857807, workers=1, host=DESKTOP-BCU4BGH, username=Mike, pid=2456) done      PrintSQL(connection_string=sqlite:///output/my.db, target_table=letter_count)\n",
      "DEBUG: 1 running tasks, waiting for next task to finish\n",
      "INFO: Informed scheduler that task   PrintSQL_sqlite____output_letter_count_4c5210e673   has status   DONE\n",
      "DEBUG: Asking scheduler for work...\n",
      "DEBUG: Done\n",
      "DEBUG: There are no more tasks to run at this time\n",
      "INFO: Worker Worker(salt=051857807, workers=1, host=DESKTOP-BCU4BGH, username=Mike, pid=2456) was stopped. Shutting down Keep-Alive thread\n",
      "INFO: \n",
      "===== Luigi Execution Summary =====\n",
      "\n",
      "Scheduled 4 tasks of which:\n",
      "* 1 complete ones were encountered:\n",
      "    - 1 Words()\n",
      "* 3 ran successfully:\n",
      "    - 1 CountLetters()\n",
      "    - 1 PrintSQL(connection_string=sqlite:///output/my.db, target_table=letter_count)\n",
      "    - 1 StoreSQL(connection_string=sqlite:///output/my.db, target_table=letter_count)\n",
      "\n",
      "This progress looks :) because there were no failed tasks or missing dependencies\n",
      "\n",
      "===== Luigi Execution Summary =====\n",
      "\n"
     ]
    },
    {
     "name": "stdout",
     "output_type": "stream",
     "text": [
      "// Letter Count Table\n",
      "   index       words  letter_count\n",
      "0      0       apple             5\n",
      "1      1      banana             6\n",
      "2      2  grapefruit            10\n",
      "3      3      cherry             6\n",
      "4      4      orange             6\n",
      "5      5       peach             5\n",
      "6      6  strawberry            10\n",
      "\n",
      "// Marker Table\n",
      "                          update_id  target_table                   inserted\n",
      "0  2020-10-26 17:09:56_letter_count  letter_count 2020-10-26 17:10:30.763616\n",
      "1  2020-10-26 17:10:34_letter_count  letter_count 2020-10-26 17:10:34.734229\n"
     ]
    },
    {
     "data": {
      "text/plain": [
       "True"
      ]
     },
     "execution_count": 25,
     "metadata": {},
     "output_type": "execute_result"
    }
   ],
   "source": [
    "words = ['apple','banana','grapefruit', 'cherry', 'orange', 'peach', 'strawberry']\n",
    "\n",
    "df = pd.DataFrame(dict(words=words))\n",
    "df.to_csv(OUTPUT_PATH/'words.csv', index=False)\n",
    "luigi.build([PrintSQL(connection_string, target_table='letter_count')], local_scheduler=True)"
   ]
  },
  {
   "cell_type": "markdown",
   "metadata": {},
   "source": [
    "As expected, our Letter Count table updated and the Marker Table's contains a new row to represent the task completing.\n",
    "\n",
    "Let's run the task one more time without updating `words.csv`."
   ]
  },
  {
   "cell_type": "code",
   "execution_count": 26,
   "metadata": {},
   "outputs": [
    {
     "name": "stderr",
     "output_type": "stream",
     "text": [
      "DEBUG: Checking if PrintSQL(connection_string=sqlite:///output/my.db, target_table=letter_count) is complete\n",
      "DEBUG: Checking if StoreSQL(connection_string=sqlite:///output/my.db, target_table=letter_count) is complete\n",
      "INFO: Informed scheduler that task   PrintSQL_sqlite____output_letter_count_4c5210e673   has status   PENDING\n",
      "INFO: Informed scheduler that task   StoreSQL_sqlite____output_letter_count_4c5210e673   has status   DONE\n",
      "INFO: Done scheduling tasks\n",
      "INFO: Running Worker with 1 processes\n",
      "DEBUG: Asking scheduler for work...\n",
      "DEBUG: Pending tasks: 1\n",
      "INFO: [pid 2456] Worker Worker(salt=023539738, workers=1, host=DESKTOP-BCU4BGH, username=Mike, pid=2456) running   PrintSQL(connection_string=sqlite:///output/my.db, target_table=letter_count)\n",
      "INFO: [pid 2456] Worker Worker(salt=023539738, workers=1, host=DESKTOP-BCU4BGH, username=Mike, pid=2456) done      PrintSQL(connection_string=sqlite:///output/my.db, target_table=letter_count)\n",
      "DEBUG: 1 running tasks, waiting for next task to finish\n",
      "INFO: Informed scheduler that task   PrintSQL_sqlite____output_letter_count_4c5210e673   has status   DONE\n",
      "DEBUG: Asking scheduler for work...\n",
      "DEBUG: Done\n",
      "DEBUG: There are no more tasks to run at this time\n",
      "INFO: Worker Worker(salt=023539738, workers=1, host=DESKTOP-BCU4BGH, username=Mike, pid=2456) was stopped. Shutting down Keep-Alive thread\n",
      "INFO: \n",
      "===== Luigi Execution Summary =====\n",
      "\n",
      "Scheduled 2 tasks of which:\n",
      "* 1 complete ones were encountered:\n",
      "    - 1 StoreSQL(connection_string=sqlite:///output/my.db, target_table=letter_count)\n",
      "* 1 ran successfully:\n",
      "    - 1 PrintSQL(connection_string=sqlite:///output/my.db, target_table=letter_count)\n",
      "\n",
      "This progress looks :) because there were no failed tasks or missing dependencies\n",
      "\n",
      "===== Luigi Execution Summary =====\n",
      "\n"
     ]
    },
    {
     "name": "stdout",
     "output_type": "stream",
     "text": [
      "// Letter Count Table\n",
      "   index       words  letter_count\n",
      "0      0       apple             5\n",
      "1      1      banana             6\n",
      "2      2  grapefruit            10\n",
      "3      3      cherry             6\n",
      "4      4      orange             6\n",
      "5      5       peach             5\n",
      "6      6  strawberry            10\n",
      "\n",
      "// Marker Table\n",
      "                          update_id  target_table                   inserted\n",
      "0  2020-10-26 17:09:56_letter_count  letter_count 2020-10-26 17:10:30.763616\n",
      "1  2020-10-26 17:10:34_letter_count  letter_count 2020-10-26 17:10:34.734229\n"
     ]
    },
    {
     "data": {
      "text/plain": [
       "True"
      ]
     },
     "execution_count": 26,
     "metadata": {},
     "output_type": "execute_result"
    }
   ],
   "source": [
    "luigi.build([PrintSQL(connection_string, target_table='letter_count')], local_scheduler=True)"
   ]
  },
  {
   "cell_type": "markdown",
   "metadata": {},
   "source": [
    "The only task that ran was the `PrintSQL` task, and our other task(s) didn't run.  The Marker Table was also not updated."
   ]
  },
  {
   "cell_type": "code",
   "execution_count": 27,
   "metadata": {},
   "outputs": [],
   "source": [
    "#hide\n",
    "\n",
    "# Remove Files\n",
    "for file in OUTPUT_PATH.glob('*'):\n",
    "    file.unlink()"
   ]
  },
  {
   "cell_type": "markdown",
   "metadata": {},
   "source": [
    "## Resources\n",
    "- https://stackoverflow.com/questions/40407936/mysql-targets-in-luigi-workflow/40423427#40423427\n",
    "- https://stackoverflow.com/questions/40707004/using-luigi-to-update-postgres-table\n",
    "- https://stackoverflow.com/questions/28793832/can-luigi-rerun-tasks-when-the-task-dependencies-become-out-of-date\n",
    "- https://luigi.readthedocs.io/en/stable/_modules/luigi/contrib/sqla.html\n",
    "- https://stackoverflow.com/questions/9727673/list-directory-tree-structure-in-python\n",
    "- https://stackoverflow.com/questions/11349333/how-to-ignore-the-first-line-of-data-when-processing-csv-data\n",
    "- https://stackoverflow.com/questions/35918605/how-to-delete-a-table-in-sqlalchemy\n",
    "- https://stackoverflow.com/questions/11900553/sqlalchemy-table-already-exists\n",
    "- https://stackoverflow.com/questions/237079/how-to-get-file-creation-modification-date-times-in-python\n",
    "- https://stackoverflow.com/questions/48509083/how-to-make-a-parameter-available-to-all-luigi-tasks"
   ]
  }
 ],
 "metadata": {
  "kernelspec": {
   "display_name": "Python 3",
   "language": "python",
   "name": "python3"
  },
  "language_info": {
   "codemirror_mode": {
    "name": "ipython",
    "version": 3
   },
   "file_extension": ".py",
   "mimetype": "text/x-python",
   "name": "python",
   "nbconvert_exporter": "python",
   "pygments_lexer": "ipython3",
   "version": "3.7.9"
  },
  "varInspector": {
   "cols": {
    "lenName": 16,
    "lenType": 16,
    "lenVar": 40
   },
   "kernels_config": {
    "python": {
     "delete_cmd_postfix": "",
     "delete_cmd_prefix": "del ",
     "library": "var_list.py",
     "varRefreshCmd": "print(var_dic_list())"
    },
    "r": {
     "delete_cmd_postfix": ") ",
     "delete_cmd_prefix": "rm(",
     "library": "var_list.r",
     "varRefreshCmd": "cat(var_dic_list()) "
    }
   },
   "types_to_exclude": [
    "module",
    "function",
    "builtin_function_or_method",
    "instance",
    "_Feature"
   ],
   "window_display": false
  }
 },
 "nbformat": 4,
 "nbformat_minor": 2
}